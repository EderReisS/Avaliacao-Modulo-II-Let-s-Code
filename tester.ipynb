{
 "cells": [
  {
   "cell_type": "markdown",
   "id": "55f53c26",
   "metadata": {
    "toc": true
   },
   "source": [
    "<h1>Table of Contents<span class=\"tocSkip\"></span></h1>\n",
    "<div class=\"toc\"><ul class=\"toc-item\"></ul></div>"
   ]
  },
  {
   "cell_type": "code",
   "execution_count": 47,
   "id": "7deb2ff7",
   "metadata": {
    "ExecuteTime": {
     "end_time": "2021-11-25T18:14:25.910979Z",
     "start_time": "2021-11-25T18:14:25.905849Z"
    }
   },
   "outputs": [],
   "source": [
    "import pandas as pd\n",
    "import seaborn as sns\n",
    "import matplotlib.pyplot as plt"
   ]
  },
  {
   "cell_type": "code",
   "execution_count": 2,
   "id": "817aa6f3",
   "metadata": {
    "ExecuteTime": {
     "end_time": "2021-11-25T14:05:03.439752Z",
     "start_time": "2021-11-25T14:05:03.436076Z"
    }
   },
   "outputs": [],
   "source": [
    "url_data=\"https://raw.githubusercontent.com/EderReisS/Python_Machine_Learning/main/input_Files/Credit.csv\""
   ]
  },
  {
   "cell_type": "code",
   "execution_count": 3,
   "id": "94de6186",
   "metadata": {
    "ExecuteTime": {
     "end_time": "2021-11-25T14:05:03.769999Z",
     "start_time": "2021-11-25T14:05:03.443418Z"
    }
   },
   "outputs": [],
   "source": [
    "df=pd.read_csv(url_data)"
   ]
  },
  {
   "cell_type": "code",
   "execution_count": 4,
   "id": "b18abd58",
   "metadata": {
    "ExecuteTime": {
     "end_time": "2021-11-25T14:05:03.807238Z",
     "start_time": "2021-11-25T14:05:03.776878Z"
    }
   },
   "outputs": [
    {
     "name": "stdout",
     "output_type": "stream",
     "text": [
      "<class 'pandas.core.frame.DataFrame'>\n",
      "RangeIndex: 1000 entries, 0 to 999\n",
      "Data columns (total 21 columns):\n",
      " #   Column                  Non-Null Count  Dtype \n",
      "---  ------                  --------------  ----- \n",
      " 0   checking_status         1000 non-null   object\n",
      " 1   duration                1000 non-null   int64 \n",
      " 2   credit_history          1000 non-null   object\n",
      " 3   purpose                 1000 non-null   object\n",
      " 4   credit_amount           1000 non-null   int64 \n",
      " 5   savings_status          1000 non-null   object\n",
      " 6   employment              1000 non-null   object\n",
      " 7   installment_commitment  1000 non-null   int64 \n",
      " 8   personal_status         1000 non-null   object\n",
      " 9   other_parties           1000 non-null   object\n",
      " 10  residence_since         1000 non-null   int64 \n",
      " 11  property_magnitude      1000 non-null   object\n",
      " 12  age                     1000 non-null   int64 \n",
      " 13  other_payment_plans     1000 non-null   object\n",
      " 14  housing                 1000 non-null   object\n",
      " 15  existing_credits        1000 non-null   int64 \n",
      " 16  job                     1000 non-null   object\n",
      " 17  num_dependents          1000 non-null   int64 \n",
      " 18  own_telephone           1000 non-null   object\n",
      " 19  foreign_worker          1000 non-null   object\n",
      " 20  class                   1000 non-null   object\n",
      "dtypes: int64(7), object(14)\n",
      "memory usage: 164.2+ KB\n"
     ]
    }
   ],
   "source": [
    "df.info()"
   ]
  },
  {
   "cell_type": "code",
   "execution_count": 5,
   "id": "bd7c3f0e",
   "metadata": {
    "ExecuteTime": {
     "end_time": "2021-11-25T14:05:03.962860Z",
     "start_time": "2021-11-25T14:05:03.810071Z"
    }
   },
   "outputs": [
    {
     "data": {
      "text/plain": [
       "['radio/tv',\n",
       " 'education',\n",
       " 'furniture/equipment',\n",
       " \"'new car'\",\n",
       " \"'used car'\",\n",
       " 'business',\n",
       " \"'domestic appliance'\",\n",
       " 'repairs',\n",
       " 'other',\n",
       " 'retraining']"
      ]
     },
     "execution_count": 5,
     "metadata": {},
     "output_type": "execute_result"
    }
   ],
   "source": [
    "df.iloc[:,3].unique().tolist()"
   ]
  },
  {
   "cell_type": "code",
   "execution_count": 24,
   "id": "d6560fbb",
   "metadata": {
    "ExecuteTime": {
     "end_time": "2021-11-25T14:52:04.391826Z",
     "start_time": "2021-11-25T14:52:04.294368Z"
    }
   },
   "outputs": [
    {
     "data": {
      "text/html": [
       "<div>\n",
       "<style scoped>\n",
       "    .dataframe tbody tr th:only-of-type {\n",
       "        vertical-align: middle;\n",
       "    }\n",
       "\n",
       "    .dataframe tbody tr th {\n",
       "        vertical-align: top;\n",
       "    }\n",
       "\n",
       "    .dataframe thead th {\n",
       "        text-align: right;\n",
       "    }\n",
       "</style>\n",
       "<table border=\"1\" class=\"dataframe\">\n",
       "  <thead>\n",
       "    <tr style=\"text-align: right;\">\n",
       "      <th></th>\n",
       "      <th>checking_status</th>\n",
       "      <th>duration</th>\n",
       "      <th>credit_history</th>\n",
       "      <th>purpose</th>\n",
       "      <th>credit_amount</th>\n",
       "      <th>savings_status</th>\n",
       "      <th>employment</th>\n",
       "      <th>installment_commitment</th>\n",
       "      <th>personal_status</th>\n",
       "      <th>other_parties</th>\n",
       "      <th>...</th>\n",
       "      <th>property_magnitude</th>\n",
       "      <th>age</th>\n",
       "      <th>other_payment_plans</th>\n",
       "      <th>housing</th>\n",
       "      <th>existing_credits</th>\n",
       "      <th>job</th>\n",
       "      <th>num_dependents</th>\n",
       "      <th>own_telephone</th>\n",
       "      <th>foreign_worker</th>\n",
       "      <th>class</th>\n",
       "    </tr>\n",
       "  </thead>\n",
       "  <tbody>\n",
       "    <tr>\n",
       "      <th>0</th>\n",
       "      <td>&lt;0</td>\n",
       "      <td>6</td>\n",
       "      <td>'critical/other existing credit'</td>\n",
       "      <td>radio/tv</td>\n",
       "      <td>1169</td>\n",
       "      <td>'no known savings'</td>\n",
       "      <td>&gt;=7</td>\n",
       "      <td>4</td>\n",
       "      <td>'male single'</td>\n",
       "      <td>none</td>\n",
       "      <td>...</td>\n",
       "      <td>'real estate'</td>\n",
       "      <td>67</td>\n",
       "      <td>none</td>\n",
       "      <td>own</td>\n",
       "      <td>2</td>\n",
       "      <td>skilled</td>\n",
       "      <td>1</td>\n",
       "      <td>yes</td>\n",
       "      <td>yes</td>\n",
       "      <td>good</td>\n",
       "    </tr>\n",
       "    <tr>\n",
       "      <th>1</th>\n",
       "      <td>0&lt;=X&lt;200</td>\n",
       "      <td>48</td>\n",
       "      <td>'existing paid'</td>\n",
       "      <td>radio/tv</td>\n",
       "      <td>5951</td>\n",
       "      <td>&lt;100</td>\n",
       "      <td>1&lt;=X&lt;4</td>\n",
       "      <td>2</td>\n",
       "      <td>'female div/dep/mar'</td>\n",
       "      <td>none</td>\n",
       "      <td>...</td>\n",
       "      <td>'real estate'</td>\n",
       "      <td>22</td>\n",
       "      <td>none</td>\n",
       "      <td>own</td>\n",
       "      <td>1</td>\n",
       "      <td>skilled</td>\n",
       "      <td>1</td>\n",
       "      <td>none</td>\n",
       "      <td>yes</td>\n",
       "      <td>bad</td>\n",
       "    </tr>\n",
       "    <tr>\n",
       "      <th>2</th>\n",
       "      <td>'no checking'</td>\n",
       "      <td>12</td>\n",
       "      <td>'critical/other existing credit'</td>\n",
       "      <td>education</td>\n",
       "      <td>2096</td>\n",
       "      <td>&lt;100</td>\n",
       "      <td>4&lt;=X&lt;7</td>\n",
       "      <td>2</td>\n",
       "      <td>'male single'</td>\n",
       "      <td>none</td>\n",
       "      <td>...</td>\n",
       "      <td>'real estate'</td>\n",
       "      <td>49</td>\n",
       "      <td>none</td>\n",
       "      <td>own</td>\n",
       "      <td>1</td>\n",
       "      <td>'unskilled resident'</td>\n",
       "      <td>2</td>\n",
       "      <td>none</td>\n",
       "      <td>yes</td>\n",
       "      <td>good</td>\n",
       "    </tr>\n",
       "    <tr>\n",
       "      <th>3</th>\n",
       "      <td>&lt;0</td>\n",
       "      <td>42</td>\n",
       "      <td>'existing paid'</td>\n",
       "      <td>furniture/equipment</td>\n",
       "      <td>7882</td>\n",
       "      <td>&lt;100</td>\n",
       "      <td>4&lt;=X&lt;7</td>\n",
       "      <td>2</td>\n",
       "      <td>'male single'</td>\n",
       "      <td>guarantor</td>\n",
       "      <td>...</td>\n",
       "      <td>'life insurance'</td>\n",
       "      <td>45</td>\n",
       "      <td>none</td>\n",
       "      <td>'for free'</td>\n",
       "      <td>1</td>\n",
       "      <td>skilled</td>\n",
       "      <td>2</td>\n",
       "      <td>none</td>\n",
       "      <td>yes</td>\n",
       "      <td>good</td>\n",
       "    </tr>\n",
       "    <tr>\n",
       "      <th>4</th>\n",
       "      <td>&lt;0</td>\n",
       "      <td>24</td>\n",
       "      <td>'delayed previously'</td>\n",
       "      <td>'new car'</td>\n",
       "      <td>4870</td>\n",
       "      <td>&lt;100</td>\n",
       "      <td>1&lt;=X&lt;4</td>\n",
       "      <td>3</td>\n",
       "      <td>'male single'</td>\n",
       "      <td>none</td>\n",
       "      <td>...</td>\n",
       "      <td>'no known property'</td>\n",
       "      <td>53</td>\n",
       "      <td>none</td>\n",
       "      <td>'for free'</td>\n",
       "      <td>2</td>\n",
       "      <td>skilled</td>\n",
       "      <td>2</td>\n",
       "      <td>none</td>\n",
       "      <td>yes</td>\n",
       "      <td>bad</td>\n",
       "    </tr>\n",
       "  </tbody>\n",
       "</table>\n",
       "<p>5 rows × 21 columns</p>\n",
       "</div>"
      ],
      "text/plain": [
       "  checking_status  duration                    credit_history  \\\n",
       "0              <0         6  'critical/other existing credit'   \n",
       "1        0<=X<200        48                   'existing paid'   \n",
       "2   'no checking'        12  'critical/other existing credit'   \n",
       "3              <0        42                   'existing paid'   \n",
       "4              <0        24              'delayed previously'   \n",
       "\n",
       "               purpose  credit_amount      savings_status employment  \\\n",
       "0             radio/tv           1169  'no known savings'        >=7   \n",
       "1             radio/tv           5951                <100     1<=X<4   \n",
       "2            education           2096                <100     4<=X<7   \n",
       "3  furniture/equipment           7882                <100     4<=X<7   \n",
       "4            'new car'           4870                <100     1<=X<4   \n",
       "\n",
       "   installment_commitment       personal_status other_parties  ...  \\\n",
       "0                       4         'male single'          none  ...   \n",
       "1                       2  'female div/dep/mar'          none  ...   \n",
       "2                       2         'male single'          none  ...   \n",
       "3                       2         'male single'     guarantor  ...   \n",
       "4                       3         'male single'          none  ...   \n",
       "\n",
       "    property_magnitude age  other_payment_plans     housing existing_credits  \\\n",
       "0        'real estate'  67                 none         own                2   \n",
       "1        'real estate'  22                 none         own                1   \n",
       "2        'real estate'  49                 none         own                1   \n",
       "3     'life insurance'  45                 none  'for free'                1   \n",
       "4  'no known property'  53                 none  'for free'                2   \n",
       "\n",
       "                    job num_dependents  own_telephone foreign_worker class  \n",
       "0               skilled              1            yes            yes  good  \n",
       "1               skilled              1           none            yes   bad  \n",
       "2  'unskilled resident'              2           none            yes  good  \n",
       "3               skilled              2           none            yes  good  \n",
       "4               skilled              2           none            yes   bad  \n",
       "\n",
       "[5 rows x 21 columns]"
      ]
     },
     "execution_count": 24,
     "metadata": {},
     "output_type": "execute_result"
    }
   ],
   "source": [
    "df.head()"
   ]
  },
  {
   "cell_type": "code",
   "execution_count": 41,
   "id": "c0562071",
   "metadata": {
    "ExecuteTime": {
     "end_time": "2021-11-25T18:10:49.554327Z",
     "start_time": "2021-11-25T18:10:49.492423Z"
    }
   },
   "outputs": [
    {
     "data": {
      "text/plain": [
       "array(['radio/tv', 'education', 'furniture/equipment', \"'new car'\",\n",
       "       \"'used car'\", 'business', \"'domestic appliance'\", 'repairs',\n",
       "       'other', 'retraining'], dtype=object)"
      ]
     },
     "execution_count": 41,
     "metadata": {},
     "output_type": "execute_result"
    }
   ],
   "source": [
    "df['purpose'].unique()"
   ]
  },
  {
   "cell_type": "code",
   "execution_count": 68,
   "id": "e70f4b67",
   "metadata": {
    "ExecuteTime": {
     "end_time": "2021-11-25T19:51:24.269715Z",
     "start_time": "2021-11-25T19:51:24.252773Z"
    }
   },
   "outputs": [],
   "source": [
    "class q_sidekick():\n",
    "    def agg_quantitative(data: pd.DataFrame, var: str = 'credit_amount') -> pd.DataFrame:\n",
    "        quali_var = 'job'\n",
    "        quanti_var = var\n",
    "                \n",
    "        df_agg =df.groupby(by=quali_var).agg(\n",
    "            {quanti_var:['mean','sum','std','median','count']\n",
    "            }\n",
    "        ).round(2)\n",
    "        \n",
    "        return df_agg\n",
    "    \n",
    "    def graph_plot(data: pd.DataFrame, var: str = 'credit_amount') -> None:\n",
    "        gaph = plt.figure(figsize=(15, 10))\n",
    "        sns.boxplot(data = df, x = 'job', y = var, hue = 'class')\n",
    "        plt.savefig('graph.jpeg')\n",
    "        \n",
    "        "
   ]
  },
  {
   "cell_type": "code",
   "execution_count": 67,
   "id": "1913eff7",
   "metadata": {
    "ExecuteTime": {
     "end_time": "2021-11-25T19:50:14.282871Z",
     "start_time": "2021-11-25T19:50:14.275168Z"
    }
   },
   "outputs": [
    {
     "data": {
      "text/plain": [
       "matplotlib.figure.Figure"
      ]
     },
     "execution_count": 67,
     "metadata": {},
     "output_type": "execute_result"
    }
   ],
   "source": [
    "type(figura)"
   ]
  },
  {
   "cell_type": "code",
   "execution_count": 59,
   "id": "5b81bbcc",
   "metadata": {
    "ExecuteTime": {
     "end_time": "2021-11-25T19:32:24.878077Z",
     "start_time": "2021-11-25T19:32:24.601712Z"
    }
   },
   "outputs": [
    {
     "data": {
      "text/html": [
       "<div>\n",
       "<style scoped>\n",
       "    .dataframe tbody tr th:only-of-type {\n",
       "        vertical-align: middle;\n",
       "    }\n",
       "\n",
       "    .dataframe tbody tr th {\n",
       "        vertical-align: top;\n",
       "    }\n",
       "\n",
       "    .dataframe thead tr th {\n",
       "        text-align: left;\n",
       "    }\n",
       "\n",
       "    .dataframe thead tr:last-of-type th {\n",
       "        text-align: right;\n",
       "    }\n",
       "</style>\n",
       "<table border=\"1\" class=\"dataframe\">\n",
       "  <thead>\n",
       "    <tr>\n",
       "      <th></th>\n",
       "      <th colspan=\"5\" halign=\"left\">credit_amount</th>\n",
       "    </tr>\n",
       "    <tr>\n",
       "      <th></th>\n",
       "      <th>mean</th>\n",
       "      <th>sum</th>\n",
       "      <th>std</th>\n",
       "      <th>median</th>\n",
       "      <th>count</th>\n",
       "    </tr>\n",
       "    <tr>\n",
       "      <th>job</th>\n",
       "      <th></th>\n",
       "      <th></th>\n",
       "      <th></th>\n",
       "      <th></th>\n",
       "      <th></th>\n",
       "    </tr>\n",
       "  </thead>\n",
       "  <tbody>\n",
       "    <tr>\n",
       "      <th>'high qualif/self emp/mgmt'</th>\n",
       "      <td>5435.49</td>\n",
       "      <td>804453</td>\n",
       "      <td>3914.66</td>\n",
       "      <td>4459.0</td>\n",
       "      <td>148</td>\n",
       "    </tr>\n",
       "    <tr>\n",
       "      <th>'unemp/unskilled non res'</th>\n",
       "      <td>2745.14</td>\n",
       "      <td>60393</td>\n",
       "      <td>3168.67</td>\n",
       "      <td>1416.0</td>\n",
       "      <td>22</td>\n",
       "    </tr>\n",
       "    <tr>\n",
       "      <th>'unskilled resident'</th>\n",
       "      <td>2358.52</td>\n",
       "      <td>471704</td>\n",
       "      <td>2062.26</td>\n",
       "      <td>1622.0</td>\n",
       "      <td>200</td>\n",
       "    </tr>\n",
       "    <tr>\n",
       "      <th>skilled</th>\n",
       "      <td>3070.97</td>\n",
       "      <td>1934708</td>\n",
       "      <td>2444.54</td>\n",
       "      <td>2324.0</td>\n",
       "      <td>630</td>\n",
       "    </tr>\n",
       "  </tbody>\n",
       "</table>\n",
       "</div>"
      ],
      "text/plain": [
       "                            credit_amount                                \n",
       "                                     mean      sum      std  median count\n",
       "job                                                                      \n",
       "'high qualif/self emp/mgmt'       5435.49   804453  3914.66  4459.0   148\n",
       "'unemp/unskilled non res'         2745.14    60393  3168.67  1416.0    22\n",
       "'unskilled resident'              2358.52   471704  2062.26  1622.0   200\n",
       "skilled                           3070.97  1934708  2444.54  2324.0   630"
      ]
     },
     "execution_count": 59,
     "metadata": {},
     "output_type": "execute_result"
    }
   ],
   "source": [
    "q_sidekick.agg_quantitative(data=df)"
   ]
  },
  {
   "cell_type": "code",
   "execution_count": 69,
   "id": "1d605a45",
   "metadata": {
    "ExecuteTime": {
     "end_time": "2021-11-25T19:51:35.017812Z",
     "start_time": "2021-11-25T19:51:34.413135Z"
    }
   },
   "outputs": [
    {
     "data": {
      "image/png": "[encoded data removed]",
      "text/plain": [
       "<Figure size 1080x720 with 1 Axes>"
      ]
     },
     "metadata": {
      "needs_background": "light"
     },
     "output_type": "display_data"
    }
   ],
   "source": [
    "a=q_sidekick.graph_plot(data=df)"
   ]
  },
  {
   "cell_type": "code",
   "execution_count": 71,
   "id": "d41f689f",
   "metadata": {
    "ExecuteTime": {
     "end_time": "2021-11-25T19:51:57.651888Z",
     "start_time": "2021-11-25T19:51:57.638797Z"
    }
   },
   "outputs": [
    {
     "data": {
      "text/plain": [
       "NoneType"
      ]
     },
     "execution_count": 71,
     "metadata": {},
     "output_type": "execute_result"
    }
   ],
   "source": [
    "type(a)"
   ]
  },
  {
   "cell_type": "code",
   "execution_count": 36,
   "id": "3e65c721",
   "metadata": {
    "ExecuteTime": {
     "end_time": "2021-11-25T15:40:41.819802Z",
     "start_time": "2021-11-25T15:40:41.796019Z"
    }
   },
   "outputs": [],
   "source": [
    "quali_var='job'\n",
    "quanti_var='credit_amount'\n",
    "name_agg=f'{quanti_var}'\n",
    "\n",
    "df_agg=df.groupby(by=quali_var).agg(\n",
    "    {quanti_var:['mean','sum','std','median','count']\n",
    "    }\n",
    ").round(2)\n",
    "df_agg.to_json(f'{name_agg}.json', orient='columns')\n",
    "df_agg.to_csv(f'{name_agg}.csv')"
   ]
  },
  {
   "cell_type": "code",
   "execution_count": 55,
   "id": "8e6ef9e4",
   "metadata": {
    "ExecuteTime": {
     "end_time": "2021-11-25T18:24:10.861123Z",
     "start_time": "2021-11-25T18:24:10.248121Z"
    }
   },
   "outputs": [
    {
     "data": {
      "image/png": "[encoded data removed]",
      "text/plain": [
       "<Figure size 1080x720 with 1 Axes>"
      ]
     },
     "metadata": {
      "needs_background": "light"
     },
     "output_type": "display_data"
    }
   ],
   "source": [
    "figura = plt.figure(figsize=(15, 10))\n",
    "sns.boxplot(data = df, x = 'job', y = 'credit_amount', hue='class')\n",
    "\n",
    "plt.savefig('grafico.png')\n",
    "plt.show()\n"
   ]
  }
 ],
 "metadata": {
  "kernelspec": {
   "display_name": "Python 3 (ipykernel)",
   "language": "python",
   "name": "python3"
  },
  "language_info": {
   "codemirror_mode": {
    "name": "ipython",
    "version": 3
   },
   "file_extension": ".py",
   "mimetype": "text/x-python",
   "name": "python",
   "nbconvert_exporter": "python",
   "pygments_lexer": "ipython3",
   "version": "3.9.5"
  },
  "toc": {
   "base_numbering": 1,
   "nav_menu": {},
   "number_sections": true,
   "sideBar": true,
   "skip_h1_title": false,
   "title_cell": "Table of Contents",
   "title_sidebar": "Contents",
   "toc_cell": true,
   "toc_position": {},
   "toc_section_display": true,
   "toc_window_display": false
  }
 },
 "nbformat": 4,
 "nbformat_minor": 5
}
