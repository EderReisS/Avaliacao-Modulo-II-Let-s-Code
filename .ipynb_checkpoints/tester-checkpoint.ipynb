{
 "cells": [
  {
   "cell_type": "markdown",
   "id": "55f53c26",
   "metadata": {
    "toc": true
   },
   "source": [
    "<h1>Table of Contents<span class=\"tocSkip\"></span></h1>\n",
    "<div class=\"toc\"><ul class=\"toc-item\"></ul></div>"
   ]
  },
  {
   "cell_type": "code",
   "execution_count": 10,
   "id": "7deb2ff7",
   "metadata": {
    "ExecuteTime": {
     "end_time": "2021-11-24T01:16:09.356393Z",
     "start_time": "2021-11-24T01:16:06.887240Z"
    }
   },
   "outputs": [],
   "source": [
    "import pandas as pd"
   ]
  },
  {
   "cell_type": "code",
   "execution_count": 11,
   "id": "817aa6f3",
   "metadata": {
    "ExecuteTime": {
     "end_time": "2021-11-24T01:25:22.706010Z",
     "start_time": "2021-11-24T01:25:22.700512Z"
    }
   },
   "outputs": [],
   "source": [
    "url_data=\"https://raw.githubusercontent.com/EderReisS/Python_Machine_Learning/main/input_Files/Credit.csv\""
   ]
  },
  {
   "cell_type": "code",
   "execution_count": 12,
   "id": "94de6186",
   "metadata": {
    "ExecuteTime": {
     "end_time": "2021-11-24T01:26:28.227720Z",
     "start_time": "2021-11-24T01:26:27.669971Z"
    }
   },
   "outputs": [],
   "source": [
    "df=pd.read_csv(url_data)"
   ]
  },
  {
   "cell_type": "code",
   "execution_count": 16,
   "id": "d80028ee",
   "metadata": {},
   "outputs": [
    {
     "name": "stdout",
     "output_type": "stream",
     "text": [
      "<class 'pandas.core.frame.DataFrame'>\n",
      "RangeIndex: 1000 entries, 0 to 999\n",
      "Data columns (total 21 columns):\n",
      " #   Column                  Non-Null Count  Dtype \n",
      "---  ------                  --------------  ----- \n",
      " 0   checking_status         1000 non-null   object\n",
      " 1   duration                1000 non-null   int64 \n",
      " 2   credit_history          1000 non-null   object\n",
      " 3   purpose                 1000 non-null   object\n",
      " 4   credit_amount           1000 non-null   int64 \n",
      " 5   savings_status          1000 non-null   object\n",
      " 6   employment              1000 non-null   object\n",
      " 7   installment_commitment  1000 non-null   int64 \n",
      " 8   personal_status         1000 non-null   object\n",
      " 9   other_parties           1000 non-null   object\n",
      " 10  residence_since         1000 non-null   int64 \n",
      " 11  property_magnitude      1000 non-null   object\n",
      " 12  age                     1000 non-null   int64 \n",
      " 13  other_payment_plans     1000 non-null   object\n",
      " 14  housing                 1000 non-null   object\n",
      " 15  existing_credits        1000 non-null   int64 \n",
      " 16  job                     1000 non-null   object\n",
      " 17  num_dependents          1000 non-null   int64 \n",
      " 18  own_telephone           1000 non-null   object\n",
      " 19  foreign_worker          1000 non-null   object\n",
      " 20  class                   1000 non-null   object\n",
      "dtypes: int64(7), object(14)\n",
      "memory usage: 164.2+ KB\n"
     ]
    }
   ],
   "source": [
    "df.info()"
   ]
  },
  {
   "cell_type": "code",
   "execution_count": 19,
   "id": "bd7c3f0e",
   "metadata": {
    "ExecuteTime": {
     "end_time": "2021-11-24T01:27:45.236520Z",
     "start_time": "2021-11-24T01:27:45.141180Z"
    }
   },
   "outputs": [
    {
     "data": {
      "text/plain": [
       "array(['radio/tv', 'education', 'furniture/equipment', \"'new car'\",\n",
       "       \"'used car'\", 'business', \"'domestic appliance'\", 'repairs',\n",
       "       'other', 'retraining'], dtype=object)"
      ]
     },
     "execution_count": 19,
     "metadata": {},
     "output_type": "execute_result"
    }
   ],
   "source": [
    "df.iloc[:,3].unique()"
   ]
  },
  {
   "cell_type": "code",
   "execution_count": 9,
   "id": "f22fd2f4",
   "metadata": {},
   "outputs": [
    {
     "ename": "NameError",
     "evalue": "name 'df' is not defined",
     "output_type": "error",
     "traceback": [
      "\u001b[0;31m---------------------------------------------------------------------------\u001b[0m",
      "\u001b[0;31mNameError\u001b[0m                                 Traceback (most recent call last)",
      "\u001b[0;32m/tmp/ipykernel_24952/3412176441.py\u001b[0m in \u001b[0;36m<module>\u001b[0;34m\u001b[0m\n\u001b[0;32m----> 1\u001b[0;31m \u001b[0mdf\u001b[0m\u001b[0;34m.\u001b[0m\u001b[0mloc\u001b[0m\u001b[0;34m[\u001b[0m\u001b[0mdf\u001b[0m\u001b[0;34m[\u001b[0m\u001b[0;34m'class'\u001b[0m\u001b[0;34m]\u001b[0m\u001b[0;34m==\u001b[0m\u001b[0;34m'good'\u001b[0m\u001b[0;34m]\u001b[0m\u001b[0;34m\u001b[0m\u001b[0;34m\u001b[0m\u001b[0m\n\u001b[0m",
      "\u001b[0;31mNameError\u001b[0m: name 'df' is not defined"
     ]
    }
   ],
   "source": [
    "df.loc[df['class']=='good']"
   ]
  },
  {
   "cell_type": "code",
   "execution_count": 20,
   "id": "921c5874",
   "metadata": {},
   "outputs": [
    {
     "name": "stdout",
     "output_type": "stream",
     "text": [
      "Overwriting api_credit.py\n"
     ]
    }
   ],
   "source": [
    "%%writefile api_credit.py\n",
    "\n",
    "from flask import Flask, request\n",
    "from flask_restful import Resource, Api\n",
    "import pandas as pd\n",
    "\n",
    "\n",
    "app = Flask(__name__)\n",
    "api = Api(app)\n",
    "\n",
    "url_data=\"https://raw.githubusercontent.com/EderReisS/Python_Machine_Learning/main/input_Files/Credit.csv\"\n",
    "df_credit = pd.read_csv(url_data)\n",
    "\n",
    "class credit_purpose(Resource):\n",
    "    def get(self, purpose_):\n",
    "        purpose_filter= df_credit['purpose']== purpose_\n",
    "        credit_purpose = df_credit[purpose_filter]\n",
    "        print(credit_purpose.to_json)\n",
    "        return credit_purpose.to_json()\n",
    "    \n",
    "class purposes(Resource):\n",
    "    def get(self):\n",
    "        return {'purposes': ['radio/tv', 'education', 'furniture/equipment', 'new car',\n",
    "        'used car','business','domestic appliance', 'repairs',\n",
    "        'other', 'retraining']}\n",
    "    \n",
    "\n",
    "api.add_resource(credit_purpose, '/<string:purpose_>')\n",
    "api.add_resource(purposes, '/')\n",
    "\n",
    "if __name__ == '__main__':\n",
    "    app.run(debug=True)"
   ]
  },
  {
   "cell_type": "code",
   "execution_count": null,
   "id": "df084403",
   "metadata": {},
   "outputs": [],
   "source": []
  }
 ],
 "metadata": {
  "kernelspec": {
   "display_name": "Python 3 (ipykernel)",
   "language": "python",
   "name": "python3"
  },
  "language_info": {
   "codemirror_mode": {
    "name": "ipython",
    "version": 3
   },
   "file_extension": ".py",
   "mimetype": "text/x-python",
   "name": "python",
   "nbconvert_exporter": "python",
   "pygments_lexer": "ipython3",
   "version": "3.9.5"
  },
  "toc": {
   "base_numbering": 1,
   "nav_menu": {},
   "number_sections": true,
   "sideBar": true,
   "skip_h1_title": false,
   "title_cell": "Table of Contents",
   "title_sidebar": "Contents",
   "toc_cell": true,
   "toc_position": {},
   "toc_section_display": true,
   "toc_window_display": false
  }
 },
 "nbformat": 4,
 "nbformat_minor": 5
}
